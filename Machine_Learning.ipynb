{
  "nbformat": 4,
  "nbformat_minor": 0,
  "metadata": {
    "colab": {
      "provenance": []
    },
    "kernelspec": {
      "name": "python3",
      "display_name": "Python 3"
    },
    "language_info": {
      "name": "python"
    }
  },
  "cells": [
    {
      "cell_type": "code",
      "execution_count": 1,
      "metadata": {
        "colab": {
          "base_uri": "https://localhost:8080/"
        },
        "id": "eOmNT6Td_ZAN",
        "outputId": "72e2f097-4fbe-46be-8528-1ef6ae8d77f8"
      },
      "outputs": [
        {
          "output_type": "stream",
          "name": "stdout",
          "text": [
            "Looking in indexes: https://pypi.org/simple, https://us-python.pkg.dev/colab-wheels/public/simple/\n",
            "Requirement already satisfied: sympy in /usr/local/lib/python3.8/dist-packages (1.7.1)\n",
            "Requirement already satisfied: mpmath>=0.19 in /usr/local/lib/python3.8/dist-packages (from sympy) (1.2.1)\n"
          ]
        }
      ],
      "source": [
        "!pip install sympy"
      ]
    },
    {
      "cell_type": "code",
      "source": [
        "import numpy as np\n",
        "import pandas as pd"
      ],
      "metadata": {
        "id": "Dh5mJPZU_dDr"
      },
      "execution_count": 2,
      "outputs": []
    },
    {
      "cell_type": "markdown",
      "source": [
        "\n",
        "\n",
        "# Question 1\n"
      ],
      "metadata": {
        "id": "MtpolEpD_h_H"
      }
    },
    {
      "cell_type": "markdown",
      "source": [
        "Considering two matrices $A$ and $B$ of sizes $(n,k)$ and $(k,m)$.\n",
        "\n",
        "In matrix multiplication, $C = AB$, the resultant $C$ matrix will be of the size $(n,m)$.\n",
        "\n",
        "That is we will have $n\\times m$ elements in the resultant matrix $C$.\n",
        "\n",
        "In the process of matrix multiplication, to obtain an element $C{ij}$ in $C$, we will take ith row in $A$ and jth column in $B$ and multiply the elements in the corresponding positions and finally add them. These taken rows and columns will have $k$ elements each i.e., to get the element, we need $k$ multiplications and $(k-1)$ additions by manual and $k$ additions while computing through the below written code.\n",
        "\n",
        "In total, to obtain a complete $C$ matrix, we need to perform $n\\times m\\times k$ multiplications and $n\\times m\\times (k-1)$ additions (manual) and $n\\times m\\times (k)$ additions using code."
      ],
      "metadata": {
        "id": "O-ohqFrq_mwF"
      }
    },
    {
      "cell_type": "markdown",
      "source": [
        " # Question 2"
      ],
      "metadata": {
        "id": "DkzBjTJZ_sfW"
      }
    },
    {
      "cell_type": "code",
      "source": [
        "# n = int(input())\n",
        "# k = int(input())\n",
        "# m = int(input())\n",
        "# Matrix1 = []\n",
        "# Matrix2 = []\n",
        "\n",
        "\n",
        "\n",
        "\n",
        "\n",
        "# for i in range(n):\n",
        "#     row = input().split()\n",
        "#     Matrix1.append([int(j) for j in row])\n",
        "    \n",
        "# for i in range(k):\n",
        "#     row = input().split()\n",
        "#     Matrix2.append([int(j) for j in row])\n",
        "    "
      ],
      "metadata": {
        "id": "lltUcM_p_fSr"
      },
      "execution_count": 3,
      "outputs": []
    },
    {
      "cell_type": "code",
      "source": [
        "import random\n",
        "n = random.randint(100, 200)\n",
        "k = random.randint(100, 200)\n",
        "m = random.randint(100, 200)\n",
        "Matrix1 = []\n",
        "Matrix2 = []\n",
        "\n",
        "\n",
        "#print(n, k, m)\n",
        "#matrix input\n",
        "\n",
        "for i in range(n):\n",
        "    row = random.sample(range(1,1000), k)\n",
        "        \n",
        "    Matrix1.append(row)\n",
        "    \n",
        "for i in range(k):\n",
        "    row = random.sample(range(1,1000), m)    \n",
        "    Matrix2.append(row)\n",
        "    \n",
        "#print(Matrix1, Matrix2)"
      ],
      "metadata": {
        "id": "hFT7W2nq_rE2"
      },
      "execution_count": 4,
      "outputs": []
    },
    {
      "cell_type": "code",
      "source": [
        "#matrix multiplication using list of lists\n",
        "import time\n",
        "\n",
        "def Using_lists(n, m, k, Matrix1, Matrix2):\n",
        "    Matrix_row = n\n",
        "    Matrix_col = m\n",
        "\n",
        "    Matrix = [[0 for j in range(m)] for i in range(n)]\n",
        "\n",
        "    start = time.time()\n",
        "    for i in range(n):\n",
        "        for j in range(m):\n",
        "            Matrix[i][j] =0\n",
        "            for l in range(k):\n",
        "                Matrix[i][j] += Matrix1[i][l]*Matrix2[l][j]\n",
        "\n",
        "    end = time.time()\n",
        "\n",
        "    time1 = end- start\n",
        "    return time1\n"
      ],
      "metadata": {
        "id": "vaarsgo5_ycp"
      },
      "execution_count": 5,
      "outputs": []
    },
    {
      "cell_type": "code",
      "source": [
        "import numpy as np\n",
        "import time \n",
        "def Using_numpy(n, m, k, Matrix1, Matrix2):\n",
        "    Matrix1 = np.array(Matrix1)\n",
        "    Matrix2 = np.array(Matrix2)\n",
        "\n",
        "    #print(Matrix1, Matrix2)\n",
        "\n",
        "    start = time.time()\n",
        "\n",
        "    Matrix = Matrix1.dot(Matrix2)\n",
        "\n",
        "    end = time.time()\n",
        "\n",
        "    time2 = end- start\n",
        "\n",
        "    return time2\n"
      ],
      "metadata": {
        "id": "L0FzFgt7_0O-"
      },
      "execution_count": 6,
      "outputs": []
    },
    {
      "cell_type": "code",
      "source": [
        "numpy_time = []\n",
        "lists_time = []\n",
        "for i in range(100):\n",
        "    numpy_time.append(Using_numpy(n, m, k, Matrix1, Matrix2))\n",
        "    \n",
        "    lists_time.append(Using_lists(n, m, k, Matrix1, Matrix2))\n",
        "    \n",
        "print(numpy_time)\n",
        "print(lists_time)\n",
        "\n",
        "\n",
        "#Mean\n",
        "\n",
        "print(\"Matrix multiplication using Numpy\")\n",
        "mean_numpy = sum(numpy_time)/100\n",
        "sd_numpy = np.std(numpy_time)\n",
        "print(\"Average time = \", mean_numpy, \"+/-\",sd_numpy )\n",
        "\n",
        "\n",
        "print(\"Matrix multiplication using lists\")\n",
        "mean_lists = sum(lists_time)/100\n",
        "sd_lists = np.std(lists_time)\n",
        "print(\"Average time = \", mean_lists, \"+/-\",sd_lists )\n",
        "\n",
        "\n"
      ],
      "metadata": {
        "colab": {
          "base_uri": "https://localhost:8080/"
        },
        "id": "80t1xkW2_1ls",
        "outputId": "fcf7ea6a-ef7a-4491-d722-19e05a3f1ed1"
      },
      "execution_count": 7,
      "outputs": [
        {
          "output_type": "stream",
          "name": "stdout",
          "text": [
            "[0.004364490509033203, 0.0035295486450195312, 0.003531932830810547, 0.008132457733154297, 0.003568410873413086, 0.0033905506134033203, 0.0036301612854003906, 0.0034437179565429688, 0.0035376548767089844, 0.003519296646118164, 0.004267454147338867, 0.0036842823028564453, 0.0035130977630615234, 0.0034723281860351562, 0.00354766845703125, 0.003617525100708008, 0.0034859180450439453, 0.007242441177368164, 0.005585670471191406, 0.007076263427734375, 0.0071756839752197266, 0.006983280181884766, 0.007043361663818359, 0.0085296630859375, 0.003566265106201172, 0.0036611557006835938, 0.0036084651947021484, 0.0035905838012695312, 0.003556489944458008, 0.0034978389739990234, 0.003505229949951172, 0.0035619735717773438, 0.0035400390625, 0.0035593509674072266, 0.0044710636138916016, 0.003612995147705078, 0.00351715087890625, 0.003506898880004883, 0.0035550594329833984, 0.003420591354370117, 0.0034635066986083984, 0.0034224987030029297, 0.0035359859466552734, 0.003595590591430664, 0.003374338150024414, 0.003688335418701172, 0.003610849380493164, 0.014040231704711914, 0.0035822391510009766, 0.0035309791564941406, 0.003537416458129883, 0.003537416458129883, 0.0036041736602783203, 0.0036802291870117188, 0.0036208629608154297, 0.006625175476074219, 0.0034818649291992188, 0.0035796165466308594, 0.0035276412963867188, 0.003548145294189453, 0.00850224494934082, 0.008342981338500977, 0.006879329681396484, 0.003539562225341797, 0.003564119338989258, 0.003573179244995117, 0.003574848175048828, 0.0037441253662109375, 0.0035660266876220703, 0.003356456756591797, 0.006828784942626953, 0.0035250186920166016, 0.006937265396118164, 0.003540515899658203, 0.0035262107849121094, 0.0035250186920166016, 0.003624439239501953, 0.006850481033325195, 0.0035474300384521484, 0.0034720897674560547, 0.0037679672241210938, 0.003550291061401367, 0.0035278797149658203, 0.0035686492919921875, 0.003561258316040039, 0.003516674041748047, 0.003816843032836914, 0.014011144638061523, 0.004738330841064453, 0.0035936832427978516, 0.006955385208129883, 0.010713577270507812, 0.010361433029174805, 0.00662684440612793, 0.007092952728271484, 0.0036382675170898438, 0.004472255706787109, 0.006804704666137695, 0.004329204559326172, 0.003823995590209961]\n",
            "[0.9324028491973877, 0.9028301239013672, 0.9216592311859131, 1.0496885776519775, 0.9072141647338867, 0.9326515197753906, 0.8824844360351562, 0.890697717666626, 1.0646510124206543, 0.9021186828613281, 0.9037322998046875, 0.9109480381011963, 0.9237613677978516, 0.9051320552825928, 0.8943135738372803, 0.8922765254974365, 1.462129831314087, 2.21230411529541, 2.193112850189209, 2.552474021911621, 2.203061580657959, 2.29257869720459, 2.5491981506347656, 2.4107377529144287, 0.9144370555877686, 0.9315392971038818, 0.8987481594085693, 0.9119782447814941, 0.9033389091491699, 0.9210102558135986, 0.9021077156066895, 0.9453787803649902, 0.9027893543243408, 0.9020724296569824, 0.8927180767059326, 0.9033150672912598, 0.9001286029815674, 0.9084205627441406, 0.9073467254638672, 0.9079470634460449, 0.8968539237976074, 0.8979547023773193, 0.8929750919342041, 0.9334118366241455, 0.8952224254608154, 1.3447949886322021, 1.8958935737609863, 1.6332063674926758, 1.6696228981018066, 2.001089096069336, 0.9496405124664307, 0.9130618572235107, 0.8984665870666504, 0.9006237983703613, 0.8923482894897461, 0.8840272426605225, 0.9044456481933594, 0.9149777889251709, 0.9176363945007324, 1.7735552787780762, 1.6852970123291016, 1.2653679847717285, 1.293353796005249, 1.3452935218811035, 1.2699410915374756, 1.2933859825134277, 1.4235985279083252, 0.9095230102539062, 0.9235146045684814, 1.1163594722747803, 1.2724463939666748, 1.1094272136688232, 1.3245949745178223, 1.0489768981933594, 1.2902429103851318, 1.3790233135223389, 1.2103521823883057, 1.4363670349121094, 1.2492125034332275, 0.9171550273895264, 0.909846305847168, 0.9103178977966309, 0.9111061096191406, 0.9101052284240723, 1.0263841152191162, 1.3669886589050293, 0.9200010299682617, 1.317694902420044, 1.2676260471343994, 1.2826240062713623, 2.258209466934204, 3.145263671875, 1.4242842197418213, 1.3453638553619385, 1.2575407028198242, 0.9276878833770752, 1.0125715732574463, 1.1452481746673584, 1.245093584060669, 1.287628412246704]\n",
            "Matrix multiplication using Numpy\n",
            "Average time =  0.004646825790405274 +/- 0.0021466972693157194\n",
            "Matrix multiplication using lists\n",
            "Average time =  1.2089026308059692 +/- 0.4626646692489197\n"
          ]
        }
      ]
    },
    {
      "cell_type": "markdown",
      "source": [
        "From the above results, we can observe that, computing multiplication of matrices using numpy is faster than using lists. \n",
        "This can be attributed to the following reasons:\n",
        "1. Lists involve non-contiguous memory allocation whereas arrays involve contiguous memory allocation (saves time).\n",
        "2. Some tasks may be executed parallely in case of numpy.\n",
        "3. Effective use of cache in numpy compared to lists.\n",
        " "
      ],
      "metadata": {
        "id": "p0gAMvoPIGyL"
      }
    },
    {
      "cell_type": "markdown",
      "source": [
        "#Question 3"
      ],
      "metadata": {
        "id": "wvR3isxy_4SX"
      }
    },
    {
      "cell_type": "code",
      "source": [
        "import random\n",
        "import time\n",
        "import numpy as np\n",
        "\n",
        "n = random.randint(1, 1000)\n",
        "\n",
        "arr = [random.random() for i in range(n)]\n",
        "\n",
        "dup = arr.copy()\n",
        "\n",
        "#print(arr)\n",
        "\n",
        "def passes_median(arr, n):\n",
        "    dic = {}\n",
        "    for i in range(n):\n",
        "        dic[arr[i]]= -1\n",
        "    key =[]\n",
        "    #print(arr)\n",
        "    for i in range(n//2+1):\n",
        "        maxi = arr[0]\n",
        "        for j in range(n):\n",
        "            if maxi <= arr[j]:\n",
        "                maxi = arr[j]\n",
        "                index = j\n",
        "                \n",
        "        if (dic[maxi] != index):\n",
        "            dic[maxi] = index\n",
        "            key.append(maxi) \n",
        "            arr[index] = -1\n",
        "    if (n%2==0):\n",
        "        #print(key[-1], key[-2])\n",
        "        median = (key[-1]+key[-2])/2\n",
        "    else:\n",
        "        #print(key[-1])\n",
        "        median = key[-1]\n",
        "    #print(dic)\n",
        "    return median\n",
        "        \n",
        "def optimal_median(arr, n):\n",
        "    arr.sort()\n",
        "    #print(arr)\n",
        "    if (n%2==0):\n",
        "        #print(arr[n//2], arr[n//2-1])\n",
        "        median = (arr[n//2]+arr[n//2-1])/2\n",
        "    else:\n",
        "        #print(arr[n//2])\n",
        "        median = arr[n//2]\n",
        "    return median\n",
        "\n",
        "def numpy_median(arr, n):\n",
        "    return np.median(arr)\n",
        "#print(arr)\n",
        "#print(dic)\n",
        "\n",
        "print(passes_median(dup, n), optimal_median(arr, n), numpy_median(arr, n))"
      ],
      "metadata": {
        "colab": {
          "base_uri": "https://localhost:8080/"
        },
        "id": "BZvETxRC_2_9",
        "outputId": "b06302bc-e0ae-49df-85b4-21008e685cea"
      },
      "execution_count": 8,
      "outputs": [
        {
          "output_type": "stream",
          "name": "stdout",
          "text": [
            "0.4760853799999569 0.4760853799999569 0.4760853799999569\n"
          ]
        }
      ]
    },
    {
      "cell_type": "code",
      "source": [
        "time_passes=[]\n",
        "time_optimal=[]\n",
        "time_numpy = []\n",
        "\n",
        "for i in range(1000):\n",
        "    n = random.randint(1, 1000)\n",
        "    arr = [random.random() for i in range(n)]\n",
        "    dup = arr.copy()\n",
        "    start = (time.time())*1000\n",
        "    med= passes_median(dup, n)\n",
        "    end = (time.time())*1000\n",
        "    time_passes.append(end-start)\n",
        "    \n",
        "    start = (time.time())*1000\n",
        "    med = optimal_median(arr, n)\n",
        "    end = (time.time())*1000\n",
        "    time_optimal.append(end-start)\n",
        "\n",
        "    start = (time.time())*1000\n",
        "    med = numpy_median(arr, n)\n",
        "    end = (time.time())*1000\n",
        "    time_numpy.append(end-start)\n",
        "    \n",
        "Meantime_passes = sum(time_passes)/100\n",
        "Meantime_optimal = sum(time_optimal)/100\n",
        "Meantime_numpy = sum(time_numpy)/100\n",
        "\n",
        "time_passes = np.array(time_passes)\n",
        "time_optimal = np.array(time_optimal)\n",
        "time_numpy = np. array(time_numpy)\n",
        "\n",
        "print(\"Using passes\")\n",
        "print(\"Average time = \", Meantime_passes, \"+/-\",np.std(time_passes)  )\n",
        "\n",
        "print(\"Optimal method\")\n",
        "print(\"Average time = \", Meantime_optimal, \"+/-\", np.std(time_optimal))\n",
        "\n",
        "print(\"Numpy passes\")\n",
        "print(\"Average time = \", Meantime_numpy, \"+/-\",np.std(time_numpy)  )\n"
      ],
      "metadata": {
        "colab": {
          "base_uri": "https://localhost:8080/"
        },
        "id": "9kyHQPowQFHh",
        "outputId": "7b7fb257-5068-4cbf-bee1-b7968b95d0bf"
      },
      "execution_count": 9,
      "outputs": [
        {
          "output_type": "stream",
          "name": "stdout",
          "text": [
            "Using passes\n",
            "Average time =  196.28471435546874 +/- 23.937328105450064\n",
            "Optimal method\n",
            "Average time =  0.792724609375 +/- 0.30327978606462797\n",
            "Numpy passes\n",
            "Average time =  3.21015869140625 +/- 0.6136460795691054\n"
          ]
        }
      ]
    },
    {
      "cell_type": "markdown",
      "source": [
        "We can observe that the optimal method of findind median is faster than the other mentioned menthods to find the median.\n",
        "\n",
        "Run time of optimal method used = $O(nlogn)$\n",
        "Run time of passes method used = $O(n^2)$"
      ],
      "metadata": {
        "id": "VFp8la55Tnxv"
      }
    },
    {
      "cell_type": "markdown",
      "source": [
        "#Question 4"
      ],
      "metadata": {
        "id": "S1JcDE8aAGKw"
      }
    },
    {
      "cell_type": "markdown",
      "source": [
        "Given function in terms of x and y is $ f = x^2y + y^3sin(x) $\n",
        "\n",
        "Gradient of $f$ in terms of x:\n",
        "\n",
        " $\\partial f / \\partial x = 2xy + y^3 cos(x)$\n",
        " \n",
        "Gradient of $f$ in terms of y:\n",
        "\n",
        " $\\partial f / \\partial y = x^2 + 3y^2 sin(x)$"
      ],
      "metadata": {
        "id": "TWqblw3OAfcD"
      }
    },
    {
      "cell_type": "markdown",
      "source": [
        "#Question 5"
      ],
      "metadata": {
        "id": "hGOYkDWWAfz-"
      }
    },
    {
      "cell_type": "code",
      "source": [
        "import random\n",
        "import jax\n",
        "import jax.numpy as npy\n",
        "def x_grad(x, y):\n",
        "    return 2*x*y + (y**3)*npy.cos(x)\n",
        "\n",
        "def y_grad(x, y):\n",
        "    return (x**2)+ 3*(y**2)*npy.sin(x)\n",
        "\n",
        "def function(x, y):\n",
        "    return (x**2)*y + (y**3)*npy.sin(x)\n",
        "  \n",
        "\n",
        "gradx_jax = jax.grad(function, 0)\n",
        "\n",
        "grady_jax = jax.grad(function, 1)\n",
        "\n",
        "x = random.random()\n",
        "y = random.random()\n",
        "\n",
        "gradx_manual = x_grad(x, y)\n",
        "grady_manual = y_grad(x, y)\n",
        "print(\"Manual\")\n",
        "print(\"Gradient w.r.t x = \", gradx_manual, \"Gradient w.r.t y = \", grady_manual)\n",
        "print(\"JAX\")\n",
        "print(\"Gradient w.r.t x = \",gradx_jax(x, y), \"Gradient w.r.t y = \",grady_jax(x, y))\n",
        "\n"
      ],
      "metadata": {
        "colab": {
          "base_uri": "https://localhost:8080/"
        },
        "id": "TnndzMLQ_-oG",
        "outputId": "e422a6cc-529c-416a-a56a-528da93a2ccb"
      },
      "execution_count": 10,
      "outputs": [
        {
          "output_type": "stream",
          "name": "stderr",
          "text": [
            "WARNING:jax._src.lib.xla_bridge:No GPU/TPU found, falling back to CPU. (Set TF_CPP_MIN_LOG_LEVEL=0 and rerun for more info.)\n"
          ]
        },
        {
          "output_type": "stream",
          "name": "stdout",
          "text": [
            "Manual\n",
            "Gradient w.r.t x =  1.0179477 Gradient w.r.t y =  0.79013187\n",
            "JAX\n",
            "Gradient w.r.t x =  1.0179477 Gradient w.r.t y =  0.7901318\n"
          ]
        }
      ]
    },
    {
      "cell_type": "markdown",
      "source": [
        "#Question 6"
      ],
      "metadata": {
        "id": "b_CGWO7hAPxV"
      }
    },
    {
      "cell_type": "code",
      "source": [
        "import numpy as np\n",
        "\n",
        "import sympy as sp\n",
        "x, y = sp.symbols('x, y')\n",
        "f = (x**2)*y + (y**3)*(sp.sin(x))\n",
        "print(\"x gradient = \", sp.diff(f, x))\n",
        "print(\"y gradient = \", sp.diff(f, y))"
      ],
      "metadata": {
        "colab": {
          "base_uri": "https://localhost:8080/"
        },
        "id": "d13asmKTARlJ",
        "outputId": "5f16ee62-2dee-4488-e403-da25276cf38c"
      },
      "execution_count": 11,
      "outputs": [
        {
          "output_type": "stream",
          "name": "stdout",
          "text": [
            "x gradient =  2*x*y + y**3*cos(x)\n",
            "y gradient =  x**2 + 3*y**2*sin(x)\n"
          ]
        }
      ]
    },
    {
      "cell_type": "markdown",
      "source": [
        "#Question 7"
      ],
      "metadata": {
        "id": "waeoJ7gMLiRH"
      }
    },
    {
      "cell_type": "code",
      "source": [
        "Student_info = {2022:{\"Branch 1\":{\"Roll Number\": 100, \n",
        "                                  \"Name\":\"std1\",  \n",
        "                                  \"Marks\":{\"Maths\": 78, \"English\": 66} }, \n",
        "                      \"Branch 2\":{\"Roll Number\": 101, \n",
        "                                  \"Name\":\"std1\",  \n",
        "                                  \"Marks\":{\"Maths\": 90, \"English\": 56} }}, \n",
        "                \n",
        "               2023: {\"Branch 1\":{\"Roll Number\": 102, \n",
        "                                  \"Name\":\"std1\",  \n",
        "                                  \"Marks\":{\"Maths\": 36, \"English\": 98} }, \n",
        "                      \"Branch 2\":{\"Roll Number\": 103, \n",
        "                                  \"Name\":\"std2\",  \n",
        "                                  \"Marks\":{\"Maths\": 70, \"English\": 67} }},\n",
        "                \n",
        "               2024: {\"Branch 1\":{\"Roll Number\": 104, \n",
        "                                  \"Name\":\"std3\",  \n",
        "                                  \"Marks\":{\"Maths\": 84, \"English\": 88} }, \n",
        "                      \"Branch 2\":{\"Roll Number\": 105, \n",
        "                                  \"Name\":\"std4\",  \n",
        "                                  \"Marks\":{\"Maths\": 97, \"English\": 97} }}, \n",
        "                \n",
        "               2025: {\"Branch 1\":{\"Roll Number\": 106, \n",
        "                                  \"Name\":\"std5\",  \n",
        "                                  \"Marks\":{\"Maths\": 88, \"English\": 79} }, \n",
        "                      \"Branch 2\":{\"Roll Number\": 107, \n",
        "                                  \"Name\":\"std6\",  \n",
        "                                  \"Marks\":{\"Maths\": 75, \"English\": 85} }}}\n",
        "\n",
        "print(Student_info)"
      ],
      "metadata": {
        "colab": {
          "base_uri": "https://localhost:8080/"
        },
        "id": "f_Z44DY4AV5X",
        "outputId": "9c65f43e-2a87-481d-8411-1cbbeebd0f7c"
      },
      "execution_count": 12,
      "outputs": [
        {
          "output_type": "stream",
          "name": "stdout",
          "text": [
            "{2022: {'Branch 1': {'Roll Number': 100, 'Name': 'std1', 'Marks': {'Maths': 78, 'English': 66}}, 'Branch 2': {'Roll Number': 101, 'Name': 'std1', 'Marks': {'Maths': 90, 'English': 56}}}, 2023: {'Branch 1': {'Roll Number': 102, 'Name': 'std1', 'Marks': {'Maths': 36, 'English': 98}}, 'Branch 2': {'Roll Number': 103, 'Name': 'std2', 'Marks': {'Maths': 70, 'English': 67}}}, 2024: {'Branch 1': {'Roll Number': 104, 'Name': 'std3', 'Marks': {'Maths': 84, 'English': 88}}, 'Branch 2': {'Roll Number': 105, 'Name': 'std4', 'Marks': {'Maths': 97, 'English': 97}}}, 2025: {'Branch 1': {'Roll Number': 106, 'Name': 'std5', 'Marks': {'Maths': 88, 'English': 79}}, 'Branch 2': {'Roll Number': 107, 'Name': 'std6', 'Marks': {'Maths': 75, 'English': 85}}}}\n"
          ]
        }
      ]
    },
    {
      "cell_type": "markdown",
      "source": [
        "#Question 8"
      ],
      "metadata": {
        "id": "y3ONggkGBWDq"
      }
    },
    {
      "cell_type": "code",
      "source": [
        "class year:\n",
        "  def __init__(self, years, branch):\n",
        "    self.years= years\n",
        "    self.branch = branch\n",
        "\n",
        "class Branch:\n",
        "  def __init__(self, branch, student_data):\n",
        "    self.branch = branch\n",
        "    self.student_data = student_data\n",
        "\n",
        "class Data:\n",
        "  def __init__(self, Roll_num, Name, Marks):\n",
        "    self.Roll_num = Roll_num\n",
        "    self.Name = Name\n",
        "    self.Marks= Marks\n",
        "\n",
        "\n",
        "Database = [year(2022, [Branch(\"Branch 1\", [Data(100, \"cat1\", {\"Eng\": 86, \"Social\": 65})]), Branch(\"Branch 2\", [Data(101, \"dog1\", {\"Eng\": 76, \"Social\": 65})])]), \n",
        "            year(2023, [Branch(\"Branch 1\", [Data(102, \"cat2\", {\"Eng\": 89, \"Social\": 93})]), Branch(\"Branch 2\", [Data(103, \"dog2\", {\"Eng\": 84, \"Social\": 83})])]),\n",
        "            year(2024, [Branch(\"Branch 1\", [Data(104, \"cat3\", {\"Eng\": 23, \"Social\": 67})]), Branch(\"Branch 2\", [Data(105, \"dog3\", {\"Eng\": 73, \"Social\": 65})])]),\n",
        "            year(2025, [Branch(\"Branch 1\", [Data(106, \"cat4\", {\"Eng\": 84, \"Social\": 82})]), Branch(\"Branch 2\", [Data(107, \"dog4\", {\"Eng\": 56, \"Social\": 85})])]),\n",
        "            year(2026, [Branch(\"Branch 1\", [Data(108, \"cat5\", {\"Eng\": 90, \"Social\": 63})]), Branch(\"Branch 2\", [Data(109, \"dog5\", {\"Eng\": 74, \"Social\": 87})])])]\n",
        "\n",
        "            "
      ],
      "metadata": {
        "id": "J6laZk_OBYY1"
      },
      "execution_count": 13,
      "outputs": []
    },
    {
      "cell_type": "markdown",
      "source": [
        "#Question 9"
      ],
      "metadata": {
        "id": "IrV97aEMBrHm"
      }
    },
    {
      "cell_type": "code",
      "source": [
        "import numpy as np\n",
        "from matplotlib import pyplot as plt\n",
        "\n",
        "x = np.arange(0.5, 100, 0.5)\n",
        "\n",
        "#1 \n",
        "print(\"1\")\n",
        "\n",
        "y = x\n",
        "\n",
        "plt.plot(y)\n"
      ],
      "metadata": {
        "colab": {
          "base_uri": "https://localhost:8080/",
          "height": 300
        },
        "id": "q0Q9JRxaBsgD",
        "outputId": "1385ec28-7376-4bc3-8497-24e75da9d22d"
      },
      "execution_count": 14,
      "outputs": [
        {
          "output_type": "stream",
          "name": "stdout",
          "text": [
            "1\n"
          ]
        },
        {
          "output_type": "execute_result",
          "data": {
            "text/plain": [
              "[<matplotlib.lines.Line2D at 0x7fc8a3d2f040>]"
            ]
          },
          "metadata": {},
          "execution_count": 14
        },
        {
          "output_type": "display_data",
          "data": {
            "text/plain": [
              "<Figure size 432x288 with 1 Axes>"
            ],
            "image/png": "[encoded data removed]"
          },
          "metadata": {
            "needs_background": "light"
          }
        }
      ]
    },
    {
      "cell_type": "code",
      "source": [
        "#2 \n",
        "print(\"2\")\n",
        "\n",
        "y = x*x\n",
        "\n",
        "plt.plot(y)\n",
        "\n"
      ],
      "metadata": {
        "colab": {
          "base_uri": "https://localhost:8080/",
          "height": 300
        },
        "id": "cRtvJEQJCFUD",
        "outputId": "77b56c2a-af78-418b-98f4-fece532da36c"
      },
      "execution_count": 15,
      "outputs": [
        {
          "output_type": "stream",
          "name": "stdout",
          "text": [
            "2\n"
          ]
        },
        {
          "output_type": "execute_result",
          "data": {
            "text/plain": [
              "[<matplotlib.lines.Line2D at 0x7fc8a3866bb0>]"
            ]
          },
          "metadata": {},
          "execution_count": 15
        },
        {
          "output_type": "display_data",
          "data": {
            "text/plain": [
              "<Figure size 432x288 with 1 Axes>"
            ],
            "image/png": "[encoded data removed]"
          },
          "metadata": {
            "needs_background": "light"
          }
        }
      ]
    },
    {
      "cell_type": "code",
      "source": [
        "#3 \n",
        "print(\"3\")\n",
        "\n",
        "y = (x**3)/100\n",
        "\n",
        "plt.plot(y)\n",
        "\n"
      ],
      "metadata": {
        "colab": {
          "base_uri": "https://localhost:8080/",
          "height": 300
        },
        "id": "7qKWQSaSCITR",
        "outputId": "da663a0c-e0cb-436a-f162-f9ab2b75a16f"
      },
      "execution_count": 16,
      "outputs": [
        {
          "output_type": "stream",
          "name": "stdout",
          "text": [
            "3\n"
          ]
        },
        {
          "output_type": "execute_result",
          "data": {
            "text/plain": [
              "[<matplotlib.lines.Line2D at 0x7fc8a3845610>]"
            ]
          },
          "metadata": {},
          "execution_count": 16
        },
        {
          "output_type": "display_data",
          "data": {
            "text/plain": [
              "<Figure size 432x288 with 1 Axes>"
            ],
            "image/png": "[encoded data removed]"
          },
          "metadata": {
            "needs_background": "light"
          }
        }
      ]
    },
    {
      "cell_type": "code",
      "source": [
        "#4 \n",
        "print(\"4\")\n",
        "\n",
        "y = np.sin(x)\n",
        "\n",
        "plt.plot(y)\n",
        "\n"
      ],
      "metadata": {
        "colab": {
          "base_uri": "https://localhost:8080/",
          "height": 300
        },
        "id": "s3rUffKHCIWV",
        "outputId": "083fcc74-5d77-4faa-fa73-754ecf11833c"
      },
      "execution_count": 17,
      "outputs": [
        {
          "output_type": "stream",
          "name": "stdout",
          "text": [
            "4\n"
          ]
        },
        {
          "output_type": "execute_result",
          "data": {
            "text/plain": [
              "[<matplotlib.lines.Line2D at 0x7fc8a381f880>]"
            ]
          },
          "metadata": {},
          "execution_count": 17
        },
        {
          "output_type": "display_data",
          "data": {
            "text/plain": [
              "<Figure size 432x288 with 1 Axes>"
            ],
            "image/png": "[encoded data removed]"
          },
          "metadata": {
            "needs_background": "light"
          }
        }
      ]
    },
    {
      "cell_type": "code",
      "source": [
        "#5\n",
        "print(\"5\")\n",
        "\n",
        "y = y/x\n",
        "\n",
        "plt.plot(y)\n"
      ],
      "metadata": {
        "colab": {
          "base_uri": "https://localhost:8080/",
          "height": 301
        },
        "id": "3y853H_qCIZa",
        "outputId": "5047fe92-bda7-45cd-fcb8-f06db7f80529"
      },
      "execution_count": 18,
      "outputs": [
        {
          "output_type": "stream",
          "name": "stdout",
          "text": [
            "5\n"
          ]
        },
        {
          "output_type": "execute_result",
          "data": {
            "text/plain": [
              "[<matplotlib.lines.Line2D at 0x7fc8a377bb80>]"
            ]
          },
          "metadata": {},
          "execution_count": 18
        },
        {
          "output_type": "display_data",
          "data": {
            "text/plain": [
              "<Figure size 432x288 with 1 Axes>"
            ],
            "image/png": "[encoded data removed]"
          },
          "metadata": {
            "needs_background": "light"
          }
        }
      ]
    },
    {
      "cell_type": "code",
      "source": [
        "#6\n",
        "print(\"6\")\n",
        "\n",
        "y = np.log(x)\n",
        "\n",
        "plt.plot(y)\n"
      ],
      "metadata": {
        "colab": {
          "base_uri": "https://localhost:8080/",
          "height": 300
        },
        "id": "p7IB25IZCIcu",
        "outputId": "a61466aa-3ec6-4b84-8921-d3931cc8fc4d"
      },
      "execution_count": 19,
      "outputs": [
        {
          "output_type": "stream",
          "name": "stdout",
          "text": [
            "6\n"
          ]
        },
        {
          "output_type": "execute_result",
          "data": {
            "text/plain": [
              "[<matplotlib.lines.Line2D at 0x7fc8a375d3a0>]"
            ]
          },
          "metadata": {},
          "execution_count": 19
        },
        {
          "output_type": "display_data",
          "data": {
            "text/plain": [
              "<Figure size 432x288 with 1 Axes>"
            ],
            "image/png": "[encoded data removed]"
          },
          "metadata": {
            "needs_background": "light"
          }
        }
      ]
    },
    {
      "cell_type": "code",
      "source": [
        "#7\n",
        "print(\"7\")\n",
        "\n",
        "y = np.exp(x)\n",
        "\n",
        "plt.plot(y)\n"
      ],
      "metadata": {
        "colab": {
          "base_uri": "https://localhost:8080/",
          "height": 311
        },
        "id": "BTGxojreCIfO",
        "outputId": "43342d5e-1b03-4760-e46e-077372d6b9da"
      },
      "execution_count": 20,
      "outputs": [
        {
          "output_type": "stream",
          "name": "stdout",
          "text": [
            "7\n"
          ]
        },
        {
          "output_type": "execute_result",
          "data": {
            "text/plain": [
              "[<matplotlib.lines.Line2D at 0x7fc8a38a0160>]"
            ]
          },
          "metadata": {},
          "execution_count": 20
        },
        {
          "output_type": "display_data",
          "data": {
            "text/plain": [
              "<Figure size 432x288 with 1 Axes>"
            ],
            "image/png": "[encoded data removed]"
          },
          "metadata": {
            "needs_background": "light"
          }
        }
      ]
    },
    {
      "cell_type": "markdown",
      "source": [
        "#Question 10"
      ],
      "metadata": {
        "id": "Te0TRyIhBt1j"
      }
    },
    {
      "cell_type": "code",
      "source": [
        "import pandas as pd\n",
        "m = 20\n",
        "n = 5\n",
        "\n",
        "Col_name= [\"a\", \"b\", \"c\", \"d\", \"e\"]\n",
        "Matrix = np.random.uniform(1, 2, size= (m, n))\n",
        "\n",
        "\n",
        "\n",
        "#print(Matrix)\n",
        "\n",
        "df = pd.DataFrame(Matrix, columns= [\"a\", \"b\", \"c\", \"d\", \"e\"])\n",
        "\n",
        "print(df)\n",
        "\n",
        "#standard deviation\n",
        "sd = []\n",
        "for i in range(n):\n",
        "    column =[]\n",
        "    for j in range(m):\n",
        "        column.append(Matrix[j][i])\n",
        "    column = np.array(column)\n",
        "    sd. append(np.std(column))\n",
        "    \n",
        "print(sd)\n",
        "sd = list(sd)\n",
        "max_sd = max(sd)\n",
        "\n",
        "print(max_sd)\n",
        "for i in range(n):\n",
        "    if (max_sd==sd[i]):\n",
        "        index_sd = i\n",
        "        break\n",
        "\n",
        "print(\"Column with highest standard deviation is \",Col_name[index_sd], \" and highest standard deviation is\", max_sd)\n",
        "\n",
        "\n",
        "#Mean\n",
        "\n",
        "Mean=[]\n",
        "for i in Matrix:\n",
        "    Mean.append(sum(i)/5)\n",
        "    \n",
        "    \n",
        "low_mean = min(Mean)\n",
        "\n",
        "for i in range(20):\n",
        "    if Mean[i]==low_mean:\n",
        "        index_mean = i\n",
        "        break\n",
        "        \n",
        "print(\"Row with least mean is \", index_mean, \" and the least mean is \", low_mean)\n"
      ],
      "metadata": {
        "colab": {
          "base_uri": "https://localhost:8080/"
        },
        "id": "Lzr_XQlpBvPR",
        "outputId": "20e05376-a299-4900-b9c9-4f62028e7abf"
      },
      "execution_count": 21,
      "outputs": [
        {
          "output_type": "stream",
          "name": "stdout",
          "text": [
            "           a         b         c         d         e\n",
            "0   1.140943  1.740543  1.049253  1.754462  1.225885\n",
            "1   1.381675  1.682237  1.699454  1.193310  1.301297\n",
            "2   1.650735  1.678949  1.042715  1.808111  1.235086\n",
            "3   1.600005  1.305897  1.402784  1.831338  1.915764\n",
            "4   1.537239  1.728883  1.462514  1.224756  1.475737\n",
            "5   1.712044  1.719744  1.181738  1.050486  1.346854\n",
            "6   1.417151  1.967744  1.829270  1.710255  1.404090\n",
            "7   1.140861  1.588830  1.289148  1.112390  1.170398\n",
            "8   1.668458  1.781726  1.569259  1.985791  1.891456\n",
            "9   1.885031  1.392031  1.756533  1.387922  1.485437\n",
            "10  1.025048  1.783748  1.365601  1.816378  1.341476\n",
            "11  1.753226  1.046771  1.330364  1.844732  1.777641\n",
            "12  1.694830  1.851707  1.900587  1.217164  1.527670\n",
            "13  1.514681  1.600545  1.585558  1.102759  1.777006\n",
            "14  1.807768  1.242728  1.574964  1.239063  1.949445\n",
            "15  1.302623  1.809940  1.086275  1.685597  1.104297\n",
            "16  1.212334  1.180467  1.062468  1.085202  1.171013\n",
            "17  1.083017  1.531820  1.854904  1.296646  1.349515\n",
            "18  1.391270  1.790557  1.119514  1.119949  1.359899\n",
            "19  1.985351  1.842408  1.346692  1.861106  1.701639\n",
            "[0.27382279614596267, 0.24585453158670145, 0.27872124297630285, 0.32474970443403955, 0.2617749122566812]\n",
            "0.32474970443403955\n",
            "Column with highest standard deviation is  d  and highest standard deviation is 0.32474970443403955\n",
            "Row with least mean is  16  and the least mean is  1.1422967825054033\n"
          ]
        }
      ]
    },
    {
      "cell_type": "markdown",
      "source": [
        "#Question 11"
      ],
      "metadata": {
        "id": "-xQ_svQiBvxE"
      }
    },
    {
      "cell_type": "code",
      "source": [
        "avg =[]\n",
        "for i in range(m):\n",
        "    add = sum(Matrix[i])\n",
        "    #print(add)\n",
        "    avg.append(add)\n",
        "    \n",
        "#print(avg)\n",
        "#df1 = pd.DataFrame(Mat, columns= [\"a\", \"b\", \"c\", \"d\", \"e\", \"f\"])\n",
        "df1 = pd.DataFrame(avg, columns= [\"f\"])\n",
        "df2 = pd.concat([df, df1], axis=1)\n",
        "\n",
        "#print(df2)\n",
        "\n",
        "LGT8=[]\n",
        "for i in avg:\n",
        "    if (i<8):\n",
        "        LGT8.append(\"LT8\")\n",
        "    else:\n",
        "        LGT8.append(\"GT8\")\n",
        "        \n",
        "df3 = pd.concat([df2, pd.DataFrame(LGT8, columns= [\"g\"])], axis=1)\n",
        "print(df2)\n",
        "print(df3)\n",
        "#print(pd.concat([df, df3], axis=1))\n"
      ],
      "metadata": {
        "colab": {
          "base_uri": "https://localhost:8080/"
        },
        "id": "Te8a8rO3BxU-",
        "outputId": "69974155-84d9-4edf-bb65-284637ca3665"
      },
      "execution_count": 22,
      "outputs": [
        {
          "output_type": "stream",
          "name": "stdout",
          "text": [
            "           a         b         c         d         e         f\n",
            "0   1.140943  1.740543  1.049253  1.754462  1.225885  6.911086\n",
            "1   1.381675  1.682237  1.699454  1.193310  1.301297  7.257973\n",
            "2   1.650735  1.678949  1.042715  1.808111  1.235086  7.415595\n",
            "3   1.600005  1.305897  1.402784  1.831338  1.915764  8.055788\n",
            "4   1.537239  1.728883  1.462514  1.224756  1.475737  7.429129\n",
            "5   1.712044  1.719744  1.181738  1.050486  1.346854  7.010866\n",
            "6   1.417151  1.967744  1.829270  1.710255  1.404090  8.328510\n",
            "7   1.140861  1.588830  1.289148  1.112390  1.170398  6.301627\n",
            "8   1.668458  1.781726  1.569259  1.985791  1.891456  8.896689\n",
            "9   1.885031  1.392031  1.756533  1.387922  1.485437  7.906954\n",
            "10  1.025048  1.783748  1.365601  1.816378  1.341476  7.332250\n",
            "11  1.753226  1.046771  1.330364  1.844732  1.777641  7.752734\n",
            "12  1.694830  1.851707  1.900587  1.217164  1.527670  8.191958\n",
            "13  1.514681  1.600545  1.585558  1.102759  1.777006  7.580548\n",
            "14  1.807768  1.242728  1.574964  1.239063  1.949445  7.813968\n",
            "15  1.302623  1.809940  1.086275  1.685597  1.104297  6.988731\n",
            "16  1.212334  1.180467  1.062468  1.085202  1.171013  5.711484\n",
            "17  1.083017  1.531820  1.854904  1.296646  1.349515  7.115902\n",
            "18  1.391270  1.790557  1.119514  1.119949  1.359899  6.781189\n",
            "19  1.985351  1.842408  1.346692  1.861106  1.701639  8.737196\n",
            "           a         b         c         d         e         f    g\n",
            "0   1.140943  1.740543  1.049253  1.754462  1.225885  6.911086  LT8\n",
            "1   1.381675  1.682237  1.699454  1.193310  1.301297  7.257973  LT8\n",
            "2   1.650735  1.678949  1.042715  1.808111  1.235086  7.415595  LT8\n",
            "3   1.600005  1.305897  1.402784  1.831338  1.915764  8.055788  GT8\n",
            "4   1.537239  1.728883  1.462514  1.224756  1.475737  7.429129  LT8\n",
            "5   1.712044  1.719744  1.181738  1.050486  1.346854  7.010866  LT8\n",
            "6   1.417151  1.967744  1.829270  1.710255  1.404090  8.328510  GT8\n",
            "7   1.140861  1.588830  1.289148  1.112390  1.170398  6.301627  LT8\n",
            "8   1.668458  1.781726  1.569259  1.985791  1.891456  8.896689  GT8\n",
            "9   1.885031  1.392031  1.756533  1.387922  1.485437  7.906954  LT8\n",
            "10  1.025048  1.783748  1.365601  1.816378  1.341476  7.332250  LT8\n",
            "11  1.753226  1.046771  1.330364  1.844732  1.777641  7.752734  LT8\n",
            "12  1.694830  1.851707  1.900587  1.217164  1.527670  8.191958  GT8\n",
            "13  1.514681  1.600545  1.585558  1.102759  1.777006  7.580548  LT8\n",
            "14  1.807768  1.242728  1.574964  1.239063  1.949445  7.813968  LT8\n",
            "15  1.302623  1.809940  1.086275  1.685597  1.104297  6.988731  LT8\n",
            "16  1.212334  1.180467  1.062468  1.085202  1.171013  5.711484  LT8\n",
            "17  1.083017  1.531820  1.854904  1.296646  1.349515  7.115902  LT8\n",
            "18  1.391270  1.790557  1.119514  1.119949  1.359899  6.781189  LT8\n",
            "19  1.985351  1.842408  1.346692  1.861106  1.701639  8.737196  GT8\n"
          ]
        }
      ]
    },
    {
      "cell_type": "code",
      "source": [
        "#standard deviation\n",
        "\n",
        "LT8 =[]\n",
        "GT8 =[]\n",
        "\n",
        "for i in range(m):\n",
        "    if  LGT8[i] == \"LT8\":\n",
        "        LT8.append(float(avg[i]))\n",
        "    else:\n",
        "        GT8.append(float(avg[i]))\n",
        "\n",
        "LT8 = np.array(LT8)\n",
        "GT8 = np.array(GT8)\n",
        "print(LT8)\n",
        "print(GT8)\n",
        "print(\"Standard deviation of rows with LT8 = \", np.std(LT8))\n",
        "print(\"Standard deviation of rows with GT8 = \", np.std(GT8))\n",
        "\n",
        "#print(Matrix.flatten())\n"
      ],
      "metadata": {
        "colab": {
          "base_uri": "https://localhost:8080/"
        },
        "id": "_YuNFadrCd2g",
        "outputId": "179a4367-2564-4707-f520-482a0804b368"
      },
      "execution_count": 23,
      "outputs": [
        {
          "output_type": "stream",
          "name": "stdout",
          "text": [
            "[6.91108613 7.25797272 7.41559541 7.42912913 7.0108662  6.30162653\n",
            " 7.90695353 7.33225018 7.75273397 7.58054848 7.8139677  6.98873133\n",
            " 5.71148391 7.11590196 6.78118934]\n",
            "[8.05578847 8.32851002 8.8966893  8.19195829 8.73719612]\n",
            "Standard deviation of rows with LT8 =  0.5647580369524202\n",
            "Standard deviation of rows with GT8 =  0.3220072294725449\n"
          ]
        }
      ]
    },
    {
      "cell_type": "markdown",
      "source": [
        "#Question 12"
      ],
      "metadata": {
        "id": "iFzc0NyuBx0m"
      }
    },
    {
      "cell_type": "markdown",
      "source": [
        "$Broadcasting:$\n",
        "\n",
        "Broadcasting is used to stretch/manipulate the size of the array to perform a particluar operation (addition or substraction). Here we add a single element to a $2\\times 2$. This single element $10$ is reshaped in such a way that we can add it to the given matrix $A$"
      ],
      "metadata": {
        "id": "Sg3xhUCSCCbs"
      }
    },
    {
      "cell_type": "code",
      "source": [
        "import numpy as np\n",
        "import random\n",
        "A = np.array([[random.randint(0, 100) for j in range(2)] for i in range(2)])\n",
        "print(A)\n",
        "print(A + 10)"
      ],
      "metadata": {
        "colab": {
          "base_uri": "https://localhost:8080/"
        },
        "id": "dCOs3Z_ABy6L",
        "outputId": "a3c1e970-d86c-4a71-d9e7-70ac244c8319"
      },
      "execution_count": 24,
      "outputs": [
        {
          "output_type": "stream",
          "name": "stdout",
          "text": [
            "[[33 31]\n",
            " [36 77]]\n",
            "[[43 41]\n",
            " [46 87]]\n"
          ]
        }
      ]
    },
    {
      "cell_type": "markdown",
      "source": [
        "In the below code, we observe that array $A$ is of size 2 and array $B$ of size 4. But while adding both of them $A$ is resized to 4 and the addition is computed"
      ],
      "metadata": {
        "id": "zUj_AP5NEuNy"
      }
    },
    {
      "cell_type": "code",
      "source": [
        "A = np.array([[1,2]])\n",
        "\n",
        "B = np.array([[1,2],[5,6]])\n",
        "\n",
        "A+B\n",
        "print(B.size)"
      ],
      "metadata": {
        "colab": {
          "base_uri": "https://localhost:8080/"
        },
        "id": "I1Kb6G5wDyvZ",
        "outputId": "96ae15b7-ab4a-4694-98dc-f5cfd7fb809d"
      },
      "execution_count": 25,
      "outputs": [
        {
          "output_type": "stream",
          "name": "stdout",
          "text": [
            "4\n"
          ]
        }
      ]
    },
    {
      "cell_type": "markdown",
      "source": [
        "#Question 13"
      ],
      "metadata": {
        "id": "Ay4QRotzBzZr"
      }
    },
    {
      "cell_type": "code",
      "source": [
        "def argmin_compute(Matrix):\n",
        "    Matrix = np.array(Matrix)\n",
        "    Onedim_matrix = Matrix.flatten()\n",
        "    mini = Onedim_matrix[0]\n",
        "    index =0\n",
        "    for i in range(len(Onedim_matrix)):\n",
        "        if mini > Onedim_matrix[i]:\n",
        "            mini = Onedim_matrix[i]\n",
        "            index = i\n",
        "            \n",
        "    return index\n",
        "\n",
        "Matrix = [[[3, 5], [1, 0]], [[-7, 4], [0, -4]], [[9, 5], [10, 5]]]\n",
        "print(Matrix)\n",
        "mini_inbuilt = np.argmin(Matrix)\n",
        "print(\"inbuilt = \",mini_inbuilt)\n",
        "print(\"manual = \",argmin_compute(Matrix))"
      ],
      "metadata": {
        "colab": {
          "base_uri": "https://localhost:8080/"
        },
        "id": "vBz_WOdUB02O",
        "outputId": "076cf701-490e-44c6-9a50-ddca1fa88446"
      },
      "execution_count": 26,
      "outputs": [
        {
          "output_type": "stream",
          "name": "stdout",
          "text": [
            "[[[3, 5], [1, 0]], [[-7, 4], [0, -4]], [[9, 5], [10, 5]]]\n",
            "inbuilt =  4\n",
            "manual =  4\n"
          ]
        }
      ]
    }
  ]
}